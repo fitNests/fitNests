{
 "cells": [
  {
   "cell_type": "code",
   "execution_count": 2,
   "metadata": {},
   "outputs": [],
   "source": [
    "import pandas as pd\n",
    "import numpy as np\n",
    "from sklearn.preprocessing import StandardScaler\n",
    "from sklearn.neural_network import MLPClassifier\n",
    "from sklearn.metrics import accuracy_score, classification_report, confusion_matrix\n",
    "import joblib"
   ]
  },
  {
   "cell_type": "code",
   "execution_count": 3,
   "metadata": {},
   "outputs": [],
   "source": [
    "def parse_data(fileDirectory, X, Y):\n",
    "    wordDict = {\"STANDING\": 1, \"LAYING\": 2, \"SITTING\" : 3, \"WALKING\": 4, \"WALKING_DOWNSTAIRS\": 5, \"WALKING_UPSTAIRS\": 6}\n",
    "    source = open(fileDirectory, 'r')\n",
    "    data = source.readlines()\n",
    "    source.close()\n",
    "    for i in range(1, len(data)):\n",
    "        raw = data[i].split(\",\")\n",
    "        activity = raw[-1].strip().strip('\"')\n",
    "        translate = wordDict[activity] if activity in wordDict else 0 \n",
    "        Y.append(translate)\n",
    "        X.append([float(i) for i in raw[:40]])\n",
    "        \n",
    "X_train = []\n",
    "Y_train = []\n",
    "X_test = []\n",
    "Y_test = []\n",
    "\n",
    "parse_data('train.csv', X_train, Y_train)\n",
    "parse_data('test.csv', X_test, Y_test)\n",
    "\n",
    "scaler = StandardScaler()\n",
    "scaler.fit(X_train)\n",
    "X_train_scaled = scaler.transform(X_train)\n",
    "X_test_scaled = scaler.fit_transform(X_test)"
   ]
  },
  {
   "cell_type": "code",
   "execution_count": 4,
   "metadata": {},
   "outputs": [],
   "source": [
    "seed = 10\n",
    "\n",
    "mlp = MLPClassifier(hidden_layer_sizes=(40,40,40,),\n",
    "activation='logistic',\n",
    "max_iter=10000,\n",
    "random_state=seed)\n"
   ]
  },
  {
   "cell_type": "code",
   "execution_count": 5,
   "metadata": {
    "scrolled": true
   },
   "outputs": [
    {
     "name": "stdout",
     "output_type": "stream",
     "text": [
      "[-2.77708103e-01 -2.10631233e-01  2.19307573e+00 -7.87267479e-01\n",
      " -8.33211956e-01 -9.34437521e-02 -8.08091468e-01 -8.39013385e-01\n",
      " -1.04178055e-01 -8.24746074e-01 -9.17965536e-01  4.29192243e-01\n",
      "  5.54091878e-01  7.36703014e-01  6.71474205e-01 -7.24347315e-01\n",
      " -7.49278443e-01 -7.48507370e-01 -3.66217690e-01 -8.42191783e-01\n",
      " -8.47946656e-01 -4.99493288e-01 -1.67077183e-01 -6.44500089e-01\n",
      "  1.08212932e+00  2.07960919e+00 -2.46411147e+00  1.98833917e+00\n",
      " -6.21090318e-01  1.01385521e+00 -8.58244689e-01 -5.90046873e-02\n",
      "  7.50840045e-04 -3.84020234e-01  1.16178968e-01 -8.41460913e-01\n",
      "  5.87292878e-01  5.39608353e-01 -9.14661571e-01 -2.28725132e+00]\n",
      "2\n"
     ]
    }
   ],
   "source": [
    "mlp.fit(X_train_scaled, Y_train)\n",
    "y_pred = mlp.predict(X_test_scaled)\n",
    "print(X_test_scaled[0])\n",
    "print(y_pred[0])\n",
    "#print(accuracy_score(Y_test,y_pred))\n",
    "#print(confusion_matrix(Y_test,y_pred))\n",
    "#print(classification_report(Y_test, y_pred, target_names = [\"STANDING\", \"LAYING\", \"SITTING\", \"WALKING\", \"WALKING_DOWNSTAIRS\", \"WALKING_UPSTAIRS\"]))"
   ]
  },
  {
   "cell_type": "code",
   "execution_count": null,
   "metadata": {},
   "outputs": [],
   "source": []
  },
  {
   "cell_type": "code",
   "execution_count": 8,
   "metadata": {},
   "outputs": [],
   "source": [
    "def parse_data_bin(fileDirectory, X, Y):\n",
    "    source = open(fileDirectory, 'r')\n",
    "    data = source.readlines()\n",
    "    source.close()\n",
    "    for i in range(1, len(data)):\n",
    "        raw = data[i].split(\",\")\n",
    "        Y.append(1 if raw[-1].strip().strip('\"') == \"STANDING\" else 0)\n",
    "        X.append(raw[:40])\n",
    "        \n",
    "X_train_bin = []\n",
    "Y_train_bin = []\n",
    "X_test_bin = []\n",
    "Y_test_bin = []\n",
    "\n",
    "parse_data_bin('train.csv', X_train_bin, Y_train_bin)\n",
    "parse_data_bin('test.csv', X_test_bin, Y_test_bin)\n",
    "\n",
    "scaler = StandardScaler()\n",
    "scaler.fit(X_train_bin)\n",
    "X_train_scaled_bin = scaler.transform(X_train_bin)\n",
    "X_test_scaled_bin = scaler.fit_transform(X_test_bin)\n"
   ]
  },
  {
   "cell_type": "code",
   "execution_count": 9,
   "metadata": {},
   "outputs": [],
   "source": [
    "mlp_bin = MLPClassifier(hidden_layer_sizes=(40,40,40,),\n",
    "activation='logistic',\n",
    "max_iter=10000,\n",
    "random_state=seed)\n"
   ]
  },
  {
   "cell_type": "code",
   "execution_count": 10,
   "metadata": {},
   "outputs": [
    {
     "name": "stdout",
     "output_type": "stream",
     "text": [
      "0.9043094672548354\n",
      "[[2314  101]\n",
      " [ 181  351]]\n",
      "              precision    recall  f1-score   support\n",
      "\n",
      "    STANDING       0.93      0.96      0.94      2415\n",
      "      OTHERS       0.78      0.66      0.71       532\n",
      "\n",
      "   micro avg       0.90      0.90      0.90      2947\n",
      "   macro avg       0.85      0.81      0.83      2947\n",
      "weighted avg       0.90      0.90      0.90      2947\n",
      "\n"
     ]
    }
   ],
   "source": [
    "mlp.fit(X_train_scaled_bin, Y_train_bin)\n",
    "y_pred_bin = mlp.predict(X_test_scaled_bin)\n",
    "print(accuracy_score(Y_test_bin,y_pred_bin))\n",
    "print(confusion_matrix(Y_test_bin,y_pred_bin))\n",
    "print(classification_report(Y_test_bin, y_pred_bin, target_names = [\"STANDING\", \"OTHERS\"]))"
   ]
  },
  {
   "cell_type": "code",
   "execution_count": 6,
   "metadata": {},
   "outputs": [
    {
     "data": {
      "text/plain": [
       "['mlp.pkl']"
      ]
     },
     "execution_count": 6,
     "metadata": {},
     "output_type": "execute_result"
    }
   ],
   "source": [
    "joblib.dump(mlp, 'mlp.pkl', compress = 3)"
   ]
  },
  {
   "cell_type": "code",
   "execution_count": null,
   "metadata": {},
   "outputs": [],
   "source": []
  }
 ],
 "metadata": {
  "kernelspec": {
   "display_name": "Python 3",
   "language": "python",
   "name": "python3"
  },
  "language_info": {
   "codemirror_mode": {
    "name": "ipython",
    "version": 3
   },
   "file_extension": ".py",
   "mimetype": "text/x-python",
   "name": "python",
   "nbconvert_exporter": "python",
   "pygments_lexer": "ipython3",
   "version": "3.7.3"
  }
 },
 "nbformat": 4,
 "nbformat_minor": 2
}
