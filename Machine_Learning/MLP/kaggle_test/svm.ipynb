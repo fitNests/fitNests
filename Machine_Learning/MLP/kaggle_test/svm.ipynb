{
 "cells": [
  {
   "cell_type": "code",
   "execution_count": 1,
   "metadata": {},
   "outputs": [],
   "source": [
    "import numpy as np\n",
    "import statistics\n",
    "from scipy import stats\n",
    "from sklearn.model_selection import train_test_split\n",
    "from sklearn.svm import SVC\n",
    "from sklearn.metrics import accuracy_score, classification_report, confusion_matrix\n",
    "from sklearn.preprocessing import StandardScaler"
   ]
  },
  {
   "cell_type": "markdown",
   "metadata": {},
   "source": [
    "Data Parsing"
   ]
  },
  {
   "cell_type": "code",
   "execution_count": 2,
   "metadata": {},
   "outputs": [],
   "source": [
    "def parse_data(fileDirectory, X, Y):\n",
    "    source = open(fileDirectory, 'r')\n",
    "    data = source.readlines()\n",
    "    source.close()\n",
    "    for i in range(1, len(data)):\n",
    "        raw = data[i].split(\",\")\n",
    "        Y.append(1 if raw[-1].strip().strip('\"') == \"STANDING\" else 0)\n",
    "        X.append(raw[:40])\n",
    "        \n",
    "X_train = []\n",
    "Y_train = []\n",
    "X_test = []\n",
    "Y_test = []\n",
    "\n",
    "parse_data('train.csv', X_train, Y_train)\n",
    "parse_data('test.csv', X_test, Y_test)"
   ]
  },
  {
   "cell_type": "markdown",
   "metadata": {},
   "source": [
    "Trying Linear SVM, score is 90.13%"
   ]
  },
  {
   "cell_type": "code",
   "execution_count": 3,
   "metadata": {},
   "outputs": [
    {
     "name": "stdout",
     "output_type": "stream",
     "text": [
      "0.9012555140821175\n",
      "[[2258  157]\n",
      " [ 134  398]]\n",
      "              precision    recall  f1-score   support\n",
      "\n",
      "    STANDING       0.94      0.93      0.94      2415\n",
      "Non-STANDING       0.72      0.75      0.73       532\n",
      "\n",
      "   micro avg       0.90      0.90      0.90      2947\n",
      "   macro avg       0.83      0.84      0.84      2947\n",
      "weighted avg       0.90      0.90      0.90      2947\n",
      "\n"
     ]
    }
   ],
   "source": [
    "linearKernelSVM = SVC(kernel = 'linear')\n",
    "linearKernelSVM.fit(X_train, Y_train)\n",
    "print(linearKernelSVM.score(X_test, Y_test))\n",
    "Y_pred = linearKernelSVM.predict(X_test)\n",
    "print(confusion_matrix(Y_test, Y_pred))\n",
    "print(classification_report(Y_test, Y_pred, target_names = [\"STANDING\", \"Non-STANDING\"]))"
   ]
  },
  {
   "cell_type": "markdown",
   "metadata": {},
   "source": [
    "Trying rbf kernel for C value ranging from 1e-4 to 1e6, optimal is 1e3 with score = 90.74%"
   ]
  },
  {
   "cell_type": "code",
   "execution_count": 4,
   "metadata": {},
   "outputs": [
    {
     "name": "stdout",
     "output_type": "stream",
     "text": [
      "0.8131120783460283\n",
      "0.8131120783460283\n",
      "0.8131120783460283\n",
      "0.8982589771490751\n",
      "0.9328073993471164\n",
      "0.9523939064200218\n",
      "0.9763329706202394\n",
      "0.9938792165397171\n",
      "1.0\n",
      "[0.8194774346793349, 0.8194774346793349, 0.8194774346793349, 0.8995588734306074, 0.9039701391245334, 0.9073634204275535, 0.8958262639972854, 0.8897183576518494, 0.8741092636579573]\n",
      "[[2259  156]\n",
      " [ 117  415]]\n",
      "              precision    recall  f1-score   support\n",
      "\n",
      "    STANDING       0.95      0.94      0.94      2415\n",
      "Non-STANDING       0.73      0.78      0.75       532\n",
      "\n",
      "   micro avg       0.91      0.91      0.91      2947\n",
      "   macro avg       0.84      0.86      0.85      2947\n",
      "weighted avg       0.91      0.91      0.91      2947\n",
      "\n"
     ]
    }
   ],
   "source": [
    "C_2d_range = [1e-4, 1e-3, 1e-2, 1, 1e2, 1e3, 1e4, 1e5, 1e6]\n",
    "scoreList = []\n",
    "for c in C_2d_range:\n",
    "    rbfKernelSVM = SVC(kernel = 'rbf', gamma = 'scale', C = c)\n",
    "    rbfKernelSVM.fit(X_train, Y_train)\n",
    "    print(rbfKernelSVM.score(X_train, Y_train))\n",
    "    scoreList.append(rbfKernelSVM.score(X_test, Y_test))\n",
    "print(scoreList)\n",
    "\n",
    "rbfKernelSVM = SVC(kernel = 'rbf', gamma = 'scale', C = 1e3)\n",
    "rbfKernelSVM.fit(X_train, Y_train)\n",
    "Y_pred = rbfKernelSVM.predict(X_test)\n",
    "print(confusion_matrix(Y_test, Y_pred))\n",
    "print(classification_report(Y_test, Y_pred, target_names = [\"STANDING\", \"Non-STANDING\"]))"
   ]
  },
  {
   "cell_type": "code",
   "execution_count": 7,
   "metadata": {},
   "outputs": [
    {
     "name": "stdout",
     "output_type": "stream",
     "text": [
      "0.9862622415669206\n",
      "0.8900576857821514\n"
     ]
    }
   ],
   "source": [
    "scaler = StandardScaler()\n",
    "scaler.fit(X_train)\n",
    "transformedXTrain = scaler.transform(X_train)\n",
    "rbfKernelScaledSVM = SVC(kernel = 'rbf', gamma = 'scale', C =1e3)\n",
    "rbfKernelScaledSVM.fit(transformedXTrain, Y_train)\n",
    "print(rbfKernelScaledSVM.score(transformedXTrain, Y_train))\n",
    "transformedXTest = scaler.transform(X_test)\n",
    "print(rbfKernelScaledSVM.score(transformedXTest, Y_test))"
   ]
  },
  {
   "cell_type": "code",
   "execution_count": 7,
   "metadata": {},
   "outputs": [
    {
     "data": {
      "text/plain": [
       "0.8958262639972854"
      ]
     },
     "execution_count": 7,
     "metadata": {},
     "output_type": "execute_result"
    }
   ],
   "source": []
  },
  {
   "cell_type": "code",
   "execution_count": null,
   "metadata": {},
   "outputs": [],
   "source": []
  }
 ],
 "metadata": {
  "kernelspec": {
   "display_name": "Python 3",
   "language": "python",
   "name": "python3"
  },
  "language_info": {
   "codemirror_mode": {
    "name": "ipython",
    "version": 3
   },
   "file_extension": ".py",
   "mimetype": "text/x-python",
   "name": "python",
   "nbconvert_exporter": "python",
   "pygments_lexer": "ipython3",
   "version": "3.7.3"
  }
 },
 "nbformat": 4,
 "nbformat_minor": 2
}
